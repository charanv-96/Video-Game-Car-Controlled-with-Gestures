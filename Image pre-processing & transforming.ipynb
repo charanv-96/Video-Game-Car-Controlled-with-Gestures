{
 "cells": [
  {
   "cell_type": "code",
   "execution_count": 1,
   "metadata": {},
   "outputs": [],
   "source": [
    "import cv2\n",
    "import os\n",
    "import numpy as np"
   ]
  },
  {
   "cell_type": "code",
   "execution_count": 2,
   "metadata": {},
   "outputs": [],
   "source": [
    "ls=os.listdir('Thumb')"
   ]
  },
  {
   "cell_type": "code",
   "execution_count": 13,
   "metadata": {},
   "outputs": [],
   "source": [
    "ls=os.listdir('Ok')\n",
    "\n",
    "k=0\n",
    "for i in ls:\n",
    "    k=k+1\n",
    "    \n",
    "    img = cv2.imread('Ok/'+i, cv2.IMREAD_COLOR)\n",
    "    img = cv2.flip(img, 1)\n",
    "    gray = cv2.cvtColor(img, cv2.COLOR_BGR2GRAY)\n",
    "    blur = cv2.GaussianBlur(gray, (41, 41), 0)  #tuple indicates blur value\n",
    "    ret, thresh = cv2.threshold(blur, 150, 255, cv2.THRESH_BINARY + cv2.THRESH_OTSU)\n",
    "    thresh = cv2.resize(thresh, (224, 224))\n",
    "    thresh = np.array(thresh)\n",
    "\n",
    "    target = np.stack((thresh,) * 3, axis=-1)\n",
    "    target = cv2.resize(target, (224, 224))\n",
    "    cv2.imwrite('Ok/Ok'+str(k)+'.jpg',target)"
   ]
  },
  {
   "cell_type": "code",
   "execution_count": null,
   "metadata": {},
   "outputs": [],
   "source": []
  }
 ],
 "metadata": {
  "kernelspec": {
   "display_name": "Python 3",
   "language": "python",
   "name": "python3"
  },
  "language_info": {
   "codemirror_mode": {
    "name": "ipython",
    "version": 3
   },
   "file_extension": ".py",
   "mimetype": "text/x-python",
   "name": "python",
   "nbconvert_exporter": "python",
   "pygments_lexer": "ipython3",
   "version": "3.7.5"
  }
 },
 "nbformat": 4,
 "nbformat_minor": 2
}
